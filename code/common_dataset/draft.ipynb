{
 "cells": [
  {
   "cell_type": "code",
   "execution_count": 1,
   "metadata": {},
   "outputs": [
    {
     "name": "stdout",
     "output_type": "stream",
     "text": [
      "连续的数字在列表中的第一个是 4，位于第 3 个位置。\n"
     ]
    }
   ],
   "source": [
    "def find_first_consecutive(lst, target):\n",
    "    consecutive_count = 0\n",
    "\n",
    "    for i, num in enumerate(lst):\n",
    "        if num == target:\n",
    "            consecutive_count += 1\n",
    "            if consecutive_count == 1:\n",
    "                first_position = i + 1  # 位置从1开始\n",
    "            if consecutive_count == 5:\n",
    "                return 1, first_position\n",
    "\n",
    "        else:\n",
    "            consecutive_count = 0\n",
    "\n",
    "    return -1, None\n",
    "\n",
    "# 示例用法\n",
    "my_list = [1, 2, 4, 4, 4, 4, 4, 3, 5, 4]\n",
    "target_number = 4\n",
    "result, first_position = find_first_consecutive(my_list, target_number)\n",
    "\n",
    "if result:\n",
    "    print(f\"连续的数字在列表中的第一个是 {target_number}，位于第 {first_position} 个位置。\")\n",
    "else:\n",
    "    print(\"列表中没有包含5个连续的目标数字。\")"
   ]
  },
  {
   "cell_type": "code",
   "execution_count": null,
   "metadata": {},
   "outputs": [],
   "source": []
  }
 ],
 "metadata": {
  "kernelspec": {
   "display_name": "bc_env",
   "language": "python",
   "name": "python3"
  },
  "language_info": {
   "codemirror_mode": {
    "name": "ipython",
    "version": 3
   },
   "file_extension": ".py",
   "mimetype": "text/x-python",
   "name": "python",
   "nbconvert_exporter": "python",
   "pygments_lexer": "ipython3",
   "version": "3.8.10"
  },
  "orig_nbformat": 4
 },
 "nbformat": 4,
 "nbformat_minor": 2
}
